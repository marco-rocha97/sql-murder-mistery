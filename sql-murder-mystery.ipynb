{
 "cells": [
  {
   "cell_type": "markdown",
   "metadata": {},
   "source": [
    "# SQL Murder Mystery"
   ]
  },
  {
   "cell_type": "markdown",
   "metadata": {},
   "source": [
    "##### A crime has taken place and the detective needs your help. \n",
    "##### The detective gave you the crime scene report, but you somehow lost it. \n",
    "##### You vaguely remember that the crime was a murder that occurred sometime on Jan.15, 2018 and that it took place in SQL City. \n",
    "##### Start by retrieving the corresponding crime scene report from the police department’s database. \n",
    "##### If you want to get the most out of this mystery, try to work through it only using your SQL environment and refrain from using a notepad."
   ]
  },
  {
   "cell_type": "markdown",
   "metadata": {},
   "source": [
    "### 01 - We only have 3 informations"
   ]
  },
  {
   "cell_type": "markdown",
   "metadata": {},
   "source": [
    "* Murder\n",
    "* Jan.15, 2018\n",
    "* SQL City\n",
    "\n",
    "##### With those informations, it's possible to find de crime scene description"
   ]
  },
  {
   "cell_type": "code",
   "execution_count": null,
   "metadata": {
    "vscode": {
     "languageId": "sql"
    }
   },
   "outputs": [],
   "source": [
    "-- Here I've selected * to check if all informations where right, but it's also possible to select 'description'\n",
    "\n",
    "SELECT *\n",
    "FROM crime_scene_report\n",
    "WHERE\n",
    "date = 20180115 and\n",
    "type = 'murder' and\n",
    "city = 'SQL City';"
   ]
  },
  {
   "cell_type": "markdown",
   "metadata": {},
   "source": [
    "##### Description:\n",
    "\n",
    "Security footage shows that there were 2 witnesses. \n",
    "The first witness lives at the last house on \"Northwestern Dr\". \n",
    "The second witness, named Annabel, lives somewhere on \"Franklin Ave\".\t"
   ]
  },
  {
   "cell_type": "markdown",
   "metadata": {},
   "source": [
    "### 02 - Check the first witness interview"
   ]
  },
  {
   "cell_type": "code",
   "execution_count": null,
   "metadata": {
    "vscode": {
     "languageId": "sql"
    }
   },
   "outputs": [],
   "source": [
    "-- In this case it's possible to do 2 queries, 1 to retrieve the person_id and other to find the interview transcript\n",
    "-- But to optimize, I've preferred to use a subquerie\n",
    "\n",
    "SELECT *\n",
    "FROM interview\n",
    "WHERE person_id = (\n",
    "  SELECT id\n",
    "  FROM person\n",
    "  WHERE address_street_name = 'Northwestern Dr'\n",
    "  ORDER BY address_number DESC\n",
    "  LIMIT 1\n",
    ");"
   ]
  },
  {
   "cell_type": "markdown",
   "metadata": {},
   "source": [
    "##### Transcript:\n",
    "\n",
    "I heard a gunshot and then saw a man run out. \n",
    "He had a \"Get Fit Now Gym\" bag. \n",
    "The membership number on the bag started with \"48Z\". \n",
    "Only gold members have those bags. \n",
    "The man got into a car with a plate that included \"H42W\"."
   ]
  },
  {
   "cell_type": "markdown",
   "metadata": {},
   "source": [
    "### 03 - Check the second witness interview"
   ]
  },
  {
   "cell_type": "code",
   "execution_count": null,
   "metadata": {
    "vscode": {
     "languageId": "sql"
    }
   },
   "outputs": [],
   "source": [
    "SELECT *\n",
    "FROM interview\n",
    "WHERE person_id = (\n",
    "SELECT id\n",
    "FROM person\n",
    "WHERE address_street_name = 'Franklin Ave' AND\n",
    "name LIKE 'Annabel%'\n",
    ");"
   ]
  },
  {
   "cell_type": "markdown",
   "metadata": {},
   "source": [
    "##### Transcript:\n",
    "\n",
    "I saw the murder happen, and I recognized the killer from my gym when I was working out last week on January the 9th."
   ]
  },
  {
   "cell_type": "markdown",
   "metadata": {},
   "source": [
    "### 04 - Now we have a lot of informations"
   ]
  },
  {
   "cell_type": "markdown",
   "metadata": {},
   "source": [
    "* It was a murder by gunshot\n",
    "* A man was the killer\n",
    "* He's a gold membership at Get Fit Now Gym\n",
    "* His gym bag starts with 48Z\n",
    "* His car plate includes H42W\n",
    "* He was working out at January the 9th\n",
    "\n",
    "##### Now with those informations and the relation between tables, it's possible to track the murder\t"
   ]
  },
  {
   "cell_type": "code",
   "execution_count": null,
   "metadata": {
    "vscode": {
     "languageId": "sql"
    }
   },
   "outputs": [],
   "source": [
    "-- For this case, we have more informations that we need\n",
    "-- Using JOIN we just remain with 1 line, since the others are hidden\n",
    "\n",
    "SELECT get_fit_now_check_in.membership_id, get_fit_now_member.person_id, person.name, person.license_id, drivers_license.plate_number\n",
    "FROM get_fit_now_check_in\n",
    "JOIN get_fit_now_member\n",
    "ON get_fit_now_check_in.membership_id = get_fit_now_member.id\n",
    "JOIN person\n",
    "ON get_fit_now_member.person_id = person.id\n",
    "JOIN drivers_license\n",
    "ON person.license_id = drivers_license.id\n",
    "WHERE get_fit_now_member.membership_status = 'gold' AND\n",
    "      get_fit_now_check_in.check_in_date = 20180109 AND\n",
    "      drivers_license.plate_number LIKE '%H42W%';"
   ]
  },
  {
   "cell_type": "markdown",
   "metadata": {},
   "source": [
    "##### The murder is Jeremy Bowers!"
   ]
  },
  {
   "cell_type": "markdown",
   "metadata": {},
   "source": [
    "### 05 - Ok, problem solved, let's check the answer"
   ]
  },
  {
   "cell_type": "code",
   "execution_count": null,
   "metadata": {
    "vscode": {
     "languageId": "sql"
    }
   },
   "outputs": [],
   "source": [
    "INSERT INTO solution VALUES (1, \"Jeremy Bowers\");\n",
    "\n",
    "SELECT value FROM solution;"
   ]
  },
  {
   "cell_type": "markdown",
   "metadata": {},
   "source": [
    "Congrats, you found the murderer! \n",
    "But wait, there's more... \n",
    "If you think you're up for a challenge, try querying the interview transcript of the murderer to find the real villain behind this crime. \n",
    "If you feel especially confident in your SQL skills, try to complete this final step with no more than 2 queries. \n",
    "Use this same INSERT statement with your new suspect to check your answer."
   ]
  },
  {
   "cell_type": "markdown",
   "metadata": {},
   "source": [
    "### 06 - It seems like the murder was hired by someone!\n",
    "\n",
    "##### Let's check Jeremy's interview to solve the case"
   ]
  },
  {
   "cell_type": "code",
   "execution_count": null,
   "metadata": {
    "vscode": {
     "languageId": "sql"
    }
   },
   "outputs": [],
   "source": [
    "SELECT *\n",
    "FROM interview\n",
    "WHERE person_id = (\n",
    "  SELECT id\n",
    "  FROM person\n",
    "  WHERE name = 'Jeremy Bowers'\n",
    ");"
   ]
  },
  {
   "cell_type": "markdown",
   "metadata": {},
   "source": [
    "I was hired by a woman with a lot of money. \n",
    "I don't know her name but I know she's around 5'5\" (65\") or 5'7\" (67\"). \n",
    "She has red hair and she drives a Tesla Model S. \n",
    "I know that she attended the SQL Symphony Concert 3 times in December 2017."
   ]
  },
  {
   "cell_type": "markdown",
   "metadata": {},
   "source": [
    "### 07 - Ok, let's we the informations above to track the client"
   ]
  },
  {
   "cell_type": "markdown",
   "metadata": {},
   "source": [
    "* This time it's a woman\n",
    "* This woman have a lot of money\n",
    "* She's around 65\" and 67\" height\n",
    "* Her hair is red\n",
    "* Her car is a Tesla Model S\n",
    "* She attended the SQL Symphony Concert 3 time in December 2017"
   ]
  },
  {
   "cell_type": "code",
   "execution_count": null,
   "metadata": {
    "vscode": {
     "languageId": "sql"
    }
   },
   "outputs": [],
   "source": [
    "SELECT drivers_license.id, person.name, income.annual_income, facebook_event_checkin.event_name\n",
    "FROM drivers_license\n",
    "JOIN person\n",
    "ON drivers_license.id = person.license_id\n",
    "JOIN income\n",
    "ON person.ssn = income.ssn\n",
    "JOIN facebook_event_checkin\n",
    "ON person.id = facebook_event_checkin.person_id\n",
    "WHERE gender = 'female' AND\n",
    "      car_model = 'Model S' AND\n",
    "      height BETWEEN 65 AND 67 AND\n",
    "      event_name LIKE '%SQL Symphony Concert%';"
   ]
  },
  {
   "cell_type": "markdown",
   "metadata": {},
   "source": [
    "##### The result points to Miranda Priestly!"
   ]
  },
  {
   "cell_type": "markdown",
   "metadata": {},
   "source": [
    "### 08 - Is the murder solved?"
   ]
  },
  {
   "cell_type": "code",
   "execution_count": null,
   "metadata": {
    "vscode": {
     "languageId": "sql"
    }
   },
   "outputs": [],
   "source": [
    "INSERT INTO solution VALUES (1, \"Miranda Priestly\");\n",
    "\n",
    "SELECT value FROM solution;"
   ]
  },
  {
   "cell_type": "markdown",
   "metadata": {},
   "source": [
    "Congrats, you found the brains behind the murder! \n",
    "Everyone in SQL City hails you as the greatest SQL detective of all time. \n",
    "Time to break out the champagne!"
   ]
  }
 ],
 "metadata": {
  "kernelspec": {
   "display_name": "base",
   "language": "python",
   "name": "python3"
  },
  "language_info": {
   "codemirror_mode": {
    "name": "ipython",
    "version": 3
   },
   "file_extension": ".py",
   "mimetype": "text/x-python",
   "name": "python",
   "nbconvert_exporter": "python",
   "pygments_lexer": "ipython3",
   "version": "3.11.5"
  }
 },
 "nbformat": 4,
 "nbformat_minor": 2
}
